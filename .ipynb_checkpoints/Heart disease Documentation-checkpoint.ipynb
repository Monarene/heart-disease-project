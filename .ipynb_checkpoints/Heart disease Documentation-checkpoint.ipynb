{
 "cells": [
  {
   "cell_type": "markdown",
   "metadata": {},
   "source": [
    "# Heart disease classification"
   ]
  },
  {
   "cell_type": "markdown",
   "metadata": {},
   "source": [
    "## Problem description"
   ]
  },
  {
   "cell_type": "markdown",
   "metadata": {},
   "source": [
    "A dataset set of hospital patients is released and some of their medical records are processed and put in a medical csv file, the task is to use the data to build a predictive model with the best possible accuracy to detect heart disease in the patients with given records"
   ]
  },
  {
   "cell_type": "markdown",
   "metadata": {},
   "source": [
    "## Dataset description\n"
   ]
  },
  {
   "cell_type": "markdown",
   "metadata": {},
   "source": [
    "The dataset originally contains 76 attributes but only 13 were released and put in use, The dataset contained 14 columns(13 labels and 1 target), and 303 features/rows\n"
   ]
  },
  {
   "cell_type": "markdown",
   "metadata": {},
   "source": [
    "## Description of Columns"
   ]
  },
  {
   "cell_type": "markdown",
   "metadata": {},
   "source": [
    "* age (age in years)\n",
    "* sex (1=male,0=female)\n",
    "* cp (chest pain type)\n",
    "* trestbps (resting blood pressure in mmHg on admission to the hospital)\n",
    "* chol (serum cholestoral in mg/dl\n",
    "* fbs (fast blood sugar > 120 mg/dl,1=true,0=false)\n",
    "* restecg (resting electrocardiographic results)\n",
    "* thalach (maximum heart rate achieved)\n",
    "* exang - Exercise induced angina(1=yes,0=no)\n",
    "* old peak (st depression induced by exercise relative to rest)\n",
    "* slope (the slope of the peak exercise ST segment)\n",
    "* ca (the number of major vessels colored by flurosopy)\n",
    "* thal (3=normal, 6=fixed defect,7=reversible defect)\n",
    "* target (1=positive or 0=negative)"
   ]
  },
  {
   "cell_type": "markdown",
   "metadata": {},
   "source": [
    "## Analyzing the dataset"
   ]
  }
 ],
 "metadata": {
  "kernelspec": {
   "display_name": "Python 3",
   "language": "python",
   "name": "python3"
  },
  "language_info": {
   "codemirror_mode": {
    "name": "ipython",
    "version": 3
   },
   "file_extension": ".py",
   "mimetype": "text/x-python",
   "name": "python",
   "nbconvert_exporter": "python",
   "pygments_lexer": "ipython3",
   "version": "3.6.5"
  }
 },
 "nbformat": 4,
 "nbformat_minor": 2
}
